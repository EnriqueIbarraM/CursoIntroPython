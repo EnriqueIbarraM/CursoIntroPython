{
 "cells": [
  {
   "cell_type": "markdown",
   "metadata": {},
   "source": [
    "## Ciclos\n",
    "Kata 7 - While y For"
   ]
  },
  {
   "cell_type": "code",
   "execution_count": 1,
   "metadata": {},
   "outputs": [],
   "source": [
    "# Ciclo While\n",
    "\n",
    "## Variables\n",
    "new_planet = ''\n",
    "planets = []\n",
    "\n",
    "## Ciclo\n",
    "\n",
    "# Mientras new_planet sea distinto de 'done'\n",
    "while new_planet.lower() != 'ok':\n",
    "    # Verifica si new_planet contiene algo\n",
    "    if new_planet:\n",
    "        #Se almacena el valor en la lista planets\n",
    "        planets.append(new_planet)\n",
    "    new_planet = input('Escribe el nombre de un planeta, cuando desees dejar de ingresar más elementos escribe: ok')\n"
   ]
  },
  {
   "cell_type": "code",
   "execution_count": 2,
   "metadata": {},
   "outputs": [
    {
     "name": "stdout",
     "output_type": "stream",
     "text": [
      "Mercurio\n",
      "Venus\n",
      "Tierra\n",
      "Marte\n",
      "Júpiter\n",
      "Saturno\n",
      "Urano\n",
      "Neptuno\n",
      "Plutón\n"
     ]
    }
   ],
   "source": [
    "# Ciclo For\n",
    "\n",
    "#Iterar lista\n",
    "for planet in planets:\n",
    "    # Impresión de elemento en lista.\n",
    "    print(planet)"
   ]
  }
 ],
 "metadata": {
  "interpreter": {
   "hash": "98cc3d17548d707559304a9181da6f55f33c787f7da7cec2b246d6c72ccdd19c"
  },
  "kernelspec": {
   "display_name": "Python 3.10.1 64-bit",
   "language": "python",
   "name": "python3"
  },
  "language_info": {
   "codemirror_mode": {
    "name": "ipython",
    "version": 3
   },
   "file_extension": ".py",
   "mimetype": "text/x-python",
   "name": "python",
   "nbconvert_exporter": "python",
   "pygments_lexer": "ipython3",
   "version": "3.10.1"
  },
  "orig_nbformat": 4
 },
 "nbformat": 4,
 "nbformat_minor": 2
}
