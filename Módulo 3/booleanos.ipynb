{
 "cells": [
  {
   "cell_type": "code",
   "execution_count": null,
   "metadata": {},
   "outputs": [],
   "source": []
  },
  {
   "cell_type": "markdown",
   "metadata": {},
   "source": [
    "## Lógica Booleana\n",
    "Expresiones de prueba"
   ]
  },
  {
   "cell_type": "code",
   "execution_count": 1,
   "metadata": {},
   "outputs": [],
   "source": [
    "a = 97\n",
    "b = 55\n",
    "#test expression / expresión de prueba\n",
    "\n",
    "if a < b:\n",
    "    #statement to be run / instrucción a ejecutar\n",
    "    print (b)"
   ]
  },
  {
   "cell_type": "code",
   "execution_count": 2,
   "metadata": {},
   "outputs": [
    {
     "name": "stdout",
     "output_type": "stream",
     "text": [
      "93\n"
     ]
    }
   ],
   "source": [
    "a = 93\n",
    "b = 27\n",
    "if a >= b:\n",
    "    print(a)"
   ]
  },
  {
   "cell_type": "markdown",
   "metadata": {},
   "source": [
    "Kata Módulo 3"
   ]
  },
  {
   "cell_type": "code",
   "execution_count": 9,
   "metadata": {},
   "outputs": [
    {
     "name": "stdout",
     "output_type": "stream",
     "text": [
      "Un asteroide se acerca y viaja a una velocidad de 49 Km/s.\n"
     ]
    }
   ],
   "source": [
    "velocidadAsteroide = 49\n",
    "if velocidadAsteroide > 25:\n",
    "    print(\"Un asteroide se acerca y viaja a una velocidad de \" + str(velocidadAsteroide) + \" Km/s.\")\n",
    "else:\n",
    "    print(\"¡Sigue con tu día!\")"
   ]
  },
  {
   "cell_type": "code",
   "execution_count": 8,
   "metadata": {},
   "outputs": [
    {
     "name": "stdout",
     "output_type": "stream",
     "text": [
      "Hay un Asteroide que se dirige a la tierra ahora a una velocidad de 19 Km/s!\n"
     ]
    }
   ],
   "source": [
    "velocidadAsteroide = 19\n",
    "if velocidadAsteroide > 20:\n",
    "    print (\"Hay un Asteroide que se dirige a la tierra ahora a una velocidad de \" + str(velocidadAsteroide) + \" Km/s!\")\n",
    "elif velocidadAsteroide == 20:\n",
    "    print (\"Hay un Asteroide que se dirige a la tierra ahora a una velocidad de \" + str(velocidadAsteroide) + \" Km/s!\")\n",
    "else:\n",
    "    print (\"¡Sigue con tu día!\")"
   ]
  },
  {
   "cell_type": "code",
   "execution_count": 15,
   "metadata": {},
   "outputs": [
    {
     "name": "stdout",
     "output_type": "stream",
     "text": [
      "!Alerta, Un asteroide muy Peligroso se acerca a la Tierra!\n"
     ]
    }
   ],
   "source": [
    "tamañoAsteroide = 26\n",
    "velocidadAsteroide = 26\n",
    "\n",
    "if velocidadAsteroide >25 and tamañoAsteroide > 25: \n",
    "    print(\"!Alerta, Un asteroide muy Peligroso se acerca a la Tierra!\")\n",
    "elif velocidadAsteroide >= 20 or tamañoAsteroide > 25:\n",
    "     print(\"!Alerta, Un asteroide se acerca a la Tierra!\")\n",
    "elif tamañoAsteroide < 25:\n",
    "    print(\"Un asteroide poco visible, no amenazante, se acerca  a la Tierra\")\n",
    "else:\n",
    "    print(\"Continúa con tu día\")"
   ]
  }
 ],
 "metadata": {
  "interpreter": {
   "hash": "98cc3d17548d707559304a9181da6f55f33c787f7da7cec2b246d6c72ccdd19c"
  },
  "kernelspec": {
   "display_name": "Python 3.10.1 64-bit",
   "language": "python",
   "name": "python3"
  },
  "language_info": {
   "codemirror_mode": {
    "name": "ipython",
    "version": 3
   },
   "file_extension": ".py",
   "mimetype": "text/x-python",
   "name": "python",
   "nbconvert_exporter": "python",
   "pygments_lexer": "ipython3",
   "version": "3.10.1"
  },
  "orig_nbformat": 4
 },
 "nbformat": 4,
 "nbformat_minor": 2
}
