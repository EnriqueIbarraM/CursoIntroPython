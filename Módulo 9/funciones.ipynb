{
 "cells": [
  {
   "cell_type": "markdown",
   "metadata": {},
   "source": [
    "## Funciones\n",
    "Kata 9"
   ]
  },
  {
   "cell_type": "code",
   "execution_count": 14,
   "metadata": {},
   "outputs": [],
   "source": [
    "## Argumentos en Funciones\n",
    "# Definir la función\n",
    "def Reporte(t1 = 0, t2 = 0, t3 = 0):\n",
    "    #informe = f'Tanque 1: {t1} \\nTanque 2: {t2} \\nTanque 3: {t3}'\n",
    "    informe = f'Tanque 1: {t1} Tanque 2: {t2} Tanque 3: {t3}'\n",
    "    #return informe\n",
    "    \n",
    "    return(informe, Promedio(T1 = t1, T2= t2, T3 = t3))"
   ]
  },
  {
   "cell_type": "code",
   "execution_count": 23,
   "metadata": {},
   "outputs": [
    {
     "name": "stdout",
     "output_type": "stream",
     "text": [
      "('Tanque 1: 200 Tanque 2: 10 Tanque 3: 200', 136.66666666666666)\n"
     ]
    }
   ],
   "source": [
    "# Llamando a la Función\n",
    "print(Reporte(200, 10, 200))"
   ]
  },
  {
   "cell_type": "code",
   "execution_count": 18,
   "metadata": {},
   "outputs": [],
   "source": [
    "# Función Promedio\n",
    "def Promedio(T1, T2, T3):\n",
    "    promedio = (T1 + T2 + T3) / 3\n",
    "    return promedio"
   ]
  },
  {
   "cell_type": "code",
   "execution_count": 25,
   "metadata": {},
   "outputs": [
    {
     "name": "stdout",
     "output_type": "stream",
     "text": [
      "\n",
      "    Mision a: Moon\n",
      "    Tiempo de Viaje: 89 Minutos\n",
      "    Combustible restante: 33000 Galones\n",
      "    \n"
     ]
    }
   ],
   "source": [
    "## Argumentos de Palabras Clave\n",
    "# Definición de la función\n",
    "def Informe(pre_lanzamiento, tiempo_dest, comb, destiny):\n",
    "    return f\"\"\"\n",
    "    Mision a: {destiny}\n",
    "    Tiempo de Viaje: {tiempo_dest + pre_lanzamiento} Minutos\n",
    "    Combustible restante: {comb} Galones\n",
    "    \"\"\"\n",
    "\n",
    "print(Informe(14, 75, 33000, \"Moon\"))"
   ]
  },
  {
   "cell_type": "code",
   "execution_count": 27,
   "metadata": {},
   "outputs": [
    {
     "name": "stdout",
     "output_type": "stream",
     "text": [
      "\n",
      "    Mision a: Luna.\n",
      "    Tiempo total: 87 minutos.\n",
      "    Cobustible restante: 55000 galones.\n",
      "    \n"
     ]
    }
   ],
   "source": [
    "# Función más flexible\n",
    "def Informe_Mision(destiny, *minutes, **fuel):\n",
    "    return f\"\"\"\n",
    "    Mision a: {destiny}.\n",
    "    Tiempo total: {sum(minutes)} minutos.\n",
    "    Cobustible restante: {sum(fuel.values())} galones.\n",
    "    \"\"\"\n",
    "print(Informe_Mision(\"Luna\", 10, 15, 62, t1 = 30000, t2 = 25000))"
   ]
  },
  {
   "cell_type": "code",
   "execution_count": 36,
   "metadata": {},
   "outputs": [
    {
     "name": "stdout",
     "output_type": "stream",
     "text": [
      "\n",
      "    Mision a: Luna.\n",
      "    Tiempo total: 87 minutos.\n",
      "    Cobustible restante: 75000 galones.\n",
      "    Tanque Principal: 50000 galones.\n",
      "    Tanque Secundario: 25000 galones.\n",
      "\n"
     ]
    }
   ],
   "source": [
    "# Función más flexible\n",
    "def Informe_Mision(destiny, *minutes, **fuel):\n",
    "    reporte_general = f\"\"\"\n",
    "    Mision a: {destiny}.\n",
    "    Tiempo total: {sum(minutes)} minutos.\n",
    "    Cobustible restante: {sum(fuel.values())} galones.\\n\"\"\"\n",
    "    for tanque, galones in fuel.items():\n",
    "        reporte_general = reporte_general + f\"    Tanque {tanque}: {galones} galones.\\n\"\n",
    "    return reporte_general \n",
    "    \n",
    "print(Informe_Mision(\"Luna\", 10, 15, 62, Principal = 50000, Secundario = 25000))"
   ]
  }
 ],
 "metadata": {
  "interpreter": {
   "hash": "98cc3d17548d707559304a9181da6f55f33c787f7da7cec2b246d6c72ccdd19c"
  },
  "kernelspec": {
   "display_name": "Python 3.10.1 64-bit",
   "language": "python",
   "name": "python3"
  },
  "language_info": {
   "codemirror_mode": {
    "name": "ipython",
    "version": 3
   },
   "file_extension": ".py",
   "mimetype": "text/x-python",
   "name": "python",
   "nbconvert_exporter": "python",
   "pygments_lexer": "ipython3",
   "version": "3.10.1"
  },
  "orig_nbformat": 4
 },
 "nbformat": 4,
 "nbformat_minor": 2
}
