{
 "cells": [
  {
   "cell_type": "markdown",
   "metadata": {},
   "source": [
    "# Listas\n",
    "Kata 6"
   ]
  },
  {
   "cell_type": "code",
   "execution_count": 4,
   "metadata": {},
   "outputs": [
    {
     "name": "stdout",
     "output_type": "stream",
     "text": [
      "Existen  8  Planetas en nuestro Sistema Solar, los cuales son: \n",
      "['Mercurio', 'Venus', 'Tierra', 'Marte', 'Júpiter', 'Saturno', 'Urano', 'Neptuno']\n"
     ]
    }
   ],
   "source": [
    "lista_de_planetas = ['Mercurio', 'Venus', 'Tierra', 'Marte', 'Júpiter', 'Saturno', 'Urano', 'Neptuno']\n",
    "numero_de_planetas = len(lista_de_planetas)\n",
    "print('Existen ', numero_de_planetas,  ' Planetas en nuestro Sistema Solar, los cuales son: ')\n",
    "print(lista_de_planetas)"
   ]
  },
  {
   "cell_type": "code",
   "execution_count": 5,
   "metadata": {},
   "outputs": [
    {
     "name": "stdout",
     "output_type": "stream",
     "text": [
      "Plutón\n"
     ]
    }
   ],
   "source": [
    "lista_de_planetas.append('Plutón')\n",
    "print(lista_de_planetas[-1])"
   ]
  },
  {
   "cell_type": "code",
   "execution_count": 3,
   "metadata": {},
   "outputs": [],
   "source": [
    "planetas = ['Mercury', 'Venus', 'Earth', 'Mars', 'Jupiter', 'Saturn', 'Neptune']"
   ]
  },
  {
   "cell_type": "code",
   "execution_count": 11,
   "metadata": {},
   "outputs": [
    {
     "name": "stdout",
     "output_type": "stream",
     "text": [
      "Jupiter Ocupa la posición:  5  en el Sistema Solar.\n"
     ]
    }
   ],
   "source": [
    "pl = input('Escribe el nombre de un planeta (Comienza con la primer letra mayúscula): ')\n",
    "for p in planetas:\n",
    "    if p == pl:\n",
    "        indice = planetas.index(p)\n",
    "        \n",
    "print(pl + ' Ocupa la posición: ', str(indice +1), ' en el Sistema Solar.')\n"
   ]
  },
  {
   "cell_type": "code",
   "execution_count": 13,
   "metadata": {},
   "outputs": [
    {
     "name": "stdout",
     "output_type": "stream",
     "text": [
      "Los planetas contiguos a  Jupiter son:\n",
      "Mars \n",
      " Saturn\n"
     ]
    }
   ],
   "source": [
    "# Planetas Contiguos al buscado\n",
    "cont_i = planetas[indice -1]\n",
    "cont_d = planetas[indice +1]\n",
    "print('Los planetas contiguos a ', pl, 'son:')\n",
    "print(cont_i,'\\n',cont_d)"
   ]
  },
  {
   "cell_type": "code",
   "execution_count": 14,
   "metadata": {},
   "outputs": [
    {
     "name": "stdout",
     "output_type": "stream",
     "text": [
      "['Mercury', 'Venus', 'Earth', 'Mars']\n"
     ]
    }
   ],
   "source": [
    "# Planetas más cercanos al Sol\n",
    "planetas_anteriores = planetas[0:indice]\n",
    "print(planetas_anteriores)"
   ]
  },
  {
   "cell_type": "code",
   "execution_count": 17,
   "metadata": {},
   "outputs": [
    {
     "name": "stdout",
     "output_type": "stream",
     "text": [
      "['Saturn', 'Neptune']\n"
     ]
    }
   ],
   "source": [
    "# Planetas más lejanos al Sol\n",
    "planetas_posteriores = planetas[indice +1:]\n",
    "print(planetas_posteriores)"
   ]
  }
 ],
 "metadata": {
  "interpreter": {
   "hash": "98cc3d17548d707559304a9181da6f55f33c787f7da7cec2b246d6c72ccdd19c"
  },
  "kernelspec": {
   "display_name": "Python 3.10.1 64-bit",
   "language": "python",
   "name": "python3"
  },
  "language_info": {
   "codemirror_mode": {
    "name": "ipython",
    "version": 3
   },
   "file_extension": ".py",
   "mimetype": "text/x-python",
   "name": "python",
   "nbconvert_exporter": "python",
   "pygments_lexer": "ipython3",
   "version": "3.10.1"
  },
  "orig_nbformat": 4
 },
 "nbformat": 4,
 "nbformat_minor": 2
}
