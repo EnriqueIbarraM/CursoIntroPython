{
 "cells": [
  {
   "cell_type": "markdown",
   "metadata": {},
   "source": [
    "# Operaciones Matemáticas"
   ]
  },
  {
   "cell_type": "code",
   "execution_count": 3,
   "metadata": {},
   "outputs": [
    {
     "name": "stdout",
     "output_type": "stream",
     "text": [
      "La distancia ebtre La Tierra y Júpiter es de: 628949330 Km\n"
     ]
    }
   ],
   "source": [
    "# Calculo distancia entre planetas\n",
    "dist_tierra = int('149597870')\n",
    "dist_jupiter = int('778547200')\n",
    "\n",
    "\n",
    "distancia_entre_planetas = abs(dist_tierra - dist_jupiter)\n",
    "print('La distancia ebtre La Tierra y Júpiter es de: ' + str(distancia_entre_planetas) + ' Km')"
   ]
  },
  {
   "cell_type": "code",
   "execution_count": 7,
   "metadata": {},
   "outputs": [
    {
     "name": "stdout",
     "output_type": "stream",
     "text": [
      "La distancia entre La Tierra y Júpiter es de: 390577534 Mi\n"
     ]
    }
   ],
   "source": [
    "# Convirtiendo Km a Millas\n",
    "from math import ceil\n",
    "distancia_en_millas = distancia_entre_planetas * 0.621\n",
    "print('La distancia entre La Tierra y Júpiter es de: ' + str(ceil(distancia_en_millas)) + ' Mi')"
   ]
  },
  {
   "cell_type": "code",
   "execution_count": 11,
   "metadata": {},
   "outputs": [],
   "source": [
    "# Solicitud y Conversión de datos\n",
    "primer_planeta = int(input(\"Escribe la distancia entre El Sol y el primer Plneta: \"))\n",
    "segundo_planeta = int(input(\"Escribe la distancia entre El Sol y el segundo Planeta: \"))\n",
    "\n",
    "#print(str(primer_planeta) + ' ' + str(segundo_planeta))\n"
   ]
  },
  {
   "cell_type": "code",
   "execution_count": 12,
   "metadata": {},
   "outputs": [
    {
     "name": "stdout",
     "output_type": "stream",
     "text": [
      "La distancia entre ambos Planetas es de: 700500196 Km\n",
      "Y equivale a: 435010621.716 Mi.\n"
     ]
    }
   ],
   "source": [
    "# Distancia entre planetas en Km\n",
    "dst_entre_plnts = abs(primer_planeta - segundo_planeta)\n",
    "\n",
    "# Distancia entre planetas en Mi\n",
    "dst_entre_plnts_mi = dst_entre_plnts * 0.621\n",
    "\n",
    "print('La distancia entre ambos Planetas es de: ' + str(dst_entre_plnts) + ' Km')\n",
    "print('Y equivale a: ' + str(dst_entre_plnts_mi) + ' Mi.')"
   ]
  }
 ],
 "metadata": {
  "interpreter": {
   "hash": "98cc3d17548d707559304a9181da6f55f33c787f7da7cec2b246d6c72ccdd19c"
  },
  "kernelspec": {
   "display_name": "Python 3.10.1 64-bit",
   "language": "python",
   "name": "python3"
  },
  "language_info": {
   "codemirror_mode": {
    "name": "ipython",
    "version": 3
   },
   "file_extension": ".py",
   "mimetype": "text/x-python",
   "name": "python",
   "nbconvert_exporter": "python",
   "pygments_lexer": "ipython3",
   "version": "3.10.1"
  },
  "orig_nbformat": 4
 },
 "nbformat": 4,
 "nbformat_minor": 2
}
