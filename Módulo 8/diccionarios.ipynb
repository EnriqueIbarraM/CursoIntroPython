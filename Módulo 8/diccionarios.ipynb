{
 "cells": [
  {
   "cell_type": "markdown",
   "metadata": {},
   "source": [
    "## Diccionarios\n",
    "Kata 8"
   ]
  },
  {
   "cell_type": "code",
   "execution_count": 11,
   "metadata": {},
   "outputs": [],
   "source": [
    "# Definir el diccionario.\n",
    "\n",
    "planet = {\n",
    "    'name' : 'Mars',\n",
    "    'moons' : 2\n",
    "    }"
   ]
  },
  {
   "cell_type": "code",
   "execution_count": 14,
   "metadata": {},
   "outputs": [
    {
     "name": "stdout",
     "output_type": "stream",
     "text": [
      "Mars\n",
      "2\n"
     ]
    }
   ],
   "source": [
    "# Recuperar datos dcel diicionario\n",
    "planet_name = planet.get('name')\n",
    "print(planet_name)\n",
    "print(planet['moons'])"
   ]
  },
  {
   "cell_type": "code",
   "execution_count": 15,
   "metadata": {},
   "outputs": [],
   "source": [
    "# Actualización de datos\n",
    "planet.update({'circunferencia' : {'polar': 6752, 'equatorial' : 6792}})"
   ]
  },
  {
   "cell_type": "code",
   "execution_count": 19,
   "metadata": {},
   "outputs": [
    {
     "name": "stdout",
     "output_type": "stream",
     "text": [
      "Circunferencia Polar de Mars: 6752 Km.\n"
     ]
    }
   ],
   "source": [
    "# Recuperar información de diccionario\n",
    "print(f'Circunferencia Polar de {planet[\"name\"]}: {planet[\"circunferencia\"][\"polar\"]} Km.')\n"
   ]
  },
  {
   "cell_type": "code",
   "execution_count": 24,
   "metadata": {},
   "outputs": [],
   "source": [
    "# Cálcuo de valores\n",
    "total_moons = 0\n",
    "\n",
    "planet_moons = {\n",
    "    'mercury' : 0,\n",
    "    'venus' : 0, \n",
    "    'earth' : 1, \n",
    "    'mars' : 2,\n",
    "    'jupiter' : 79,\n",
    "    'saturn' : 82,\n",
    "    'uranus' : 27,\n",
    "    'neptune' : 14,\n",
    "    'pluto' : 5,\n",
    "    'haumea' : 2,\n",
    "    'makemake' : 1,\n",
    "    'eris' : 1 \n",
    "}\n",
    "\n",
    "# Almacenamiento de número de planetas\n",
    "planets = len(planet_moons)\n",
    "##planets = len(planet_moons.keys())"
   ]
  },
  {
   "cell_type": "code",
   "execution_count": 33,
   "metadata": {},
   "outputs": [
    {
     "name": "stdout",
     "output_type": "stream",
     "text": [
      "Número total de lunas en nuestro Sistema Solar: 214 \n",
      "Promedio de lunas en nuestro sistema solar: 17.833333333333332\n"
     ]
    }
   ],
   "source": [
    "# Iteración para conteo de lunas\n",
    "total_moons = 0\n",
    "for value in planet_moons.values():\n",
    "    total_moons = total_moons + value\n",
    "##promedio = total_moons / planets\n",
    "print(f'Número total de lunas en nuestro Sistema Solar: {total_moons} \\nPromedio de lunas en nuestro sistema solar: {total_moons / planets}')\n",
    "##print(f'Número total de lunas en nuestro Sistema Solar: {total_moons} \\nPromedio de lunas en nuestro sistema solar: {promedio}')"
   ]
  }
 ],
 "metadata": {
  "interpreter": {
   "hash": "98cc3d17548d707559304a9181da6f55f33c787f7da7cec2b246d6c72ccdd19c"
  },
  "kernelspec": {
   "display_name": "Python 3.10.1 64-bit",
   "language": "python",
   "name": "python3"
  },
  "language_info": {
   "codemirror_mode": {
    "name": "ipython",
    "version": 3
   },
   "file_extension": ".py",
   "mimetype": "text/x-python",
   "name": "python",
   "nbconvert_exporter": "python",
   "pygments_lexer": "ipython3",
   "version": "3.10.1"
  },
  "orig_nbformat": 4
 },
 "nbformat": 4,
 "nbformat_minor": 2
}
