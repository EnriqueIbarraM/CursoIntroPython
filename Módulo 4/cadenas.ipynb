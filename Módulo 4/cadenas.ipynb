{
 "cells": [
  {
   "cell_type": "markdown",
   "metadata": {},
   "source": [
    "# Cadenas"
   ]
  },
  {
   "cell_type": "code",
   "execution_count": 1,
   "metadata": {},
   "outputs": [
    {
     "data": {
      "text/plain": [
       "['Interesting facts about the Moon',\n",
       " \"The Moon is Earth's only satellite\",\n",
       " 'There are several interesting facts about the Moon and how it affects life here on Earth',\n",
       " '\\nOn average, the Moon moves 4cm away from the Earth every year',\n",
       " 'This yearly drift is not significant enough to cause immediate effects on Earth',\n",
       " 'The highest daylight temperature of the Moon is 127 C.']"
      ]
     },
     "execution_count": 1,
     "metadata": {},
     "output_type": "execute_result"
    }
   ],
   "source": [
    "text = \"\"\"Interesting facts about the Moon. The Moon is Earth's only satellite. There are several interesting facts about the Moon and how it affects life here on Earth. \n",
    "On average, the Moon moves 4cm away from the Earth every year. This yearly drift is not significant enough to cause immediate effects on Earth. The highest daylight temperature of the Moon is 127 C.\"\"\"\n",
    "\n",
    "splitted = text.split('. ')\n",
    "splitted"
   ]
  },
  {
   "cell_type": "code",
   "execution_count": 2,
   "metadata": {},
   "outputs": [],
   "source": [
    "# Palabras Clave\n",
    "palabrasClave = [\"average\", \"temperature\", \"distance\"]"
   ]
  },
  {
   "cell_type": "code",
   "execution_count": 3,
   "metadata": {},
   "outputs": [
    {
     "name": "stdout",
     "output_type": "stream",
     "text": [
      "\n",
      "On average, the Moon moves 4cm away from the Earth every year\n",
      "The highest daylight temperature of the Moon is 127 C.\n"
     ]
    }
   ],
   "source": [
    "for dato in splitted:\n",
    "    for clave in palabrasClave:\n",
    "        if clave in dato:\n",
    "            print(dato)\n",
    "            break"
   ]
  },
  {
   "cell_type": "code",
   "execution_count": 4,
   "metadata": {},
   "outputs": [
    {
     "name": "stdout",
     "output_type": "stream",
     "text": [
      "Interesting facts about the Moon\n",
      "The Moon is Earth's only satellite\n",
      "There are several interesting facts about the Moon and how it affects life here on Earth\n",
      "\n",
      "On average, the Moon moves 4cm away from the Earth every year\n",
      "This yearly drift is not significant enough to cause immediate effects on Earth\n",
      "The highest daylight temperature of the Moon is 127 Celsius.\n"
     ]
    }
   ],
   "source": [
    "for dato in splitted:\n",
    "    print(dato.replace(' C', ' Celsius')) "
   ]
  },
  {
   "cell_type": "markdown",
   "metadata": {},
   "source": [
    "# Formato de Cadenas"
   ]
  },
  {
   "cell_type": "code",
   "execution_count": 16,
   "metadata": {},
   "outputs": [],
   "source": [
    "# Datos\n",
    "\n",
    "name = \"Moon\"\n",
    "gravity = 0.00162 # in kms\n",
    "planet = \"Earth\"\n",
    "\n",
    "title = f'Gravity Facts about {planet}'"
   ]
  },
  {
   "cell_type": "code",
   "execution_count": 17,
   "metadata": {},
   "outputs": [],
   "source": [
    "# Crear Plantilla\n",
    "datos = f\"\"\"{'-'*50}\n",
    "    Planeta = {planet}\n",
    "    Gravedad en {name} = {gravity * 100} m/s2.\"\"\"\n"
   ]
  },
  {
   "cell_type": "code",
   "execution_count": 18,
   "metadata": {},
   "outputs": [
    {
     "name": "stdout",
     "output_type": "stream",
     "text": [
      "Gravity Facts About Earth\n",
      "--------------------------------------------------\n",
      "    Planeta = Earth\n",
      "    Gravedad en Ganimedes = 0.16199999999999998 m/s2.\n"
     ]
    }
   ],
   "source": [
    "plantilla = f\"\"\"{title.title()}\n",
    "{datos}\"\"\"\n",
    "print(plantilla)"
   ]
  },
  {
   "cell_type": "code",
   "execution_count": 29,
   "metadata": {},
   "outputs": [
    {
     "name": "stdout",
     "output_type": "stream",
     "text": [
      "Gravity Facts About Earth\n",
      "--------------------------------------------------\n",
      "    Planeta = Earth\n",
      "    Gravedad en Ganimedes = 0.16199999999999998 m/s2.\n",
      "Datos de Gravedad sobre: Ganimedes\n",
      "    --------------------------------------------------\n",
      "    Nombre del Planeta: Earth\n",
      "    Gravedad en Ganimedes: 0.16199999999999998 m/s2\n",
      "\n"
     ]
    }
   ],
   "source": [
    "# Nueva Plantilla\n",
    "divisor = '-'*50\n",
    "nuevaPlantilla = \"\"\"\n",
    "Datos de Gravedad sobre: {name}\n",
    "    {divisor}\n",
    "    Nombre del Planeta: {planet}\n",
    "    Gravedad en {name}: {gravity} m/s2\n",
    "\"\"\"\n",
    "print(plantilla + nuevaPlantilla.format(name= name, divisor = divisor, planet = planet, gravity = gravity * 100))"
   ]
  }
 ],
 "metadata": {
  "interpreter": {
   "hash": "98cc3d17548d707559304a9181da6f55f33c787f7da7cec2b246d6c72ccdd19c"
  },
  "kernelspec": {
   "display_name": "Python 3.10.1 64-bit",
   "language": "python",
   "name": "python3"
  },
  "language_info": {
   "codemirror_mode": {
    "name": "ipython",
    "version": 3
   },
   "file_extension": ".py",
   "mimetype": "text/x-python",
   "name": "python",
   "nbconvert_exporter": "python",
   "pygments_lexer": "ipython3",
   "version": "3.10.1"
  },
  "orig_nbformat": 4
 },
 "nbformat": 4,
 "nbformat_minor": 2
}
